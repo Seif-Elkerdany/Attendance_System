{
 "cells": [
  {
   "cell_type": "code",
   "execution_count": null,
   "metadata": {},
   "outputs": [
    {
     "name": "stdout",
     "output_type": "stream",
     "text": [
      "Dataset updated successfully! The images are stored in the folder: /home/seif_elkerdany/projects/data/38K_images\n"
     ]
    }
   ],
   "source": [
    "# import os\n",
    "# import pandas as pd\n",
    "# from PIL import Image\n",
    "# import io\n",
    "\n",
    "# input_parquet = '/home/seif_elkerdany/projects/data/cleaned_data38K.parquet'\n",
    "# df = pd.read_parquet(input_parquet)\n",
    "\n",
    "# base_output_dir = \"/home/seif_elkerdany/projects/data/38K_images\"\n",
    "# img1_dir = os.path.join(base_output_dir, \"image1\")\n",
    "# img2_dir = os.path.join(base_output_dir, \"image2\")\n",
    "\n",
    "# os.makedirs(img1_dir, exist_ok=True)\n",
    "# os.makedirs(img2_dir, exist_ok=True)\n",
    "\n",
    "# def extract_image_bytes(image_cell, col_name, index):\n",
    "#     \"\"\"\n",
    "#     Extract image bytes from a cell.\n",
    "#     If the cell is a dict and contains the key 'bytes', return its value.\n",
    "#     Otherwise, assume the cell is already the raw bytes.\n",
    "#     \"\"\"\n",
    "#     if isinstance(image_cell, dict):\n",
    "#         if 'bytes' in image_cell:\n",
    "#             return image_cell['bytes']\n",
    "#         else:\n",
    "#             if len(image_cell) == 1:\n",
    "#                 return next(iter(image_cell.values()))\n",
    "#             else:\n",
    "#                 print(f\"{col_name} at index {index} is a dict with keys {list(image_cell.keys())}.\")\n",
    "#                 return None\n",
    "#     return image_cell\n",
    "\n",
    "\n",
    "# for index, row in df.iterrows():\n",
    "    \n",
    "#     raw_image1 = row['image1']\n",
    "#     raw_image2 = row['image2']\n",
    "\n",
    "#     image1_bytes = extract_image_bytes(raw_image1, 'image1', index)\n",
    "#     image2_bytes = extract_image_bytes(raw_image2, 'image2', index)\n",
    "\n",
    "   \n",
    "#     if image1_bytes is None or image2_bytes is None:\n",
    "#         continue\n",
    "\n",
    "    \n",
    "#     try:\n",
    "#         image1 = Image.open(io.BytesIO(image1_bytes))\n",
    "#     except Exception as e:\n",
    "#         print(f\"Error processing image1 at index {index}: {e}\")\n",
    "#         continue\n",
    "\n",
    "#     try:\n",
    "#         image2 = Image.open(io.BytesIO(image2_bytes))\n",
    "#     except Exception as e:\n",
    "#         print(f\"Error processing image2 at index {index}: {e}\")\n",
    "#         continue\n",
    "\n",
    "    \n",
    "#     image1_filename = f\"img1_{index}.png\"  \n",
    "#     image2_filename = f\"img2_{index}.png\"\n",
    "#     image1_path = os.path.join(img1_dir, image1_filename)\n",
    "#     image2_path = os.path.join(img2_dir, image2_filename)\n",
    "\n",
    "#     try:\n",
    "#         image1.save(image1_path)\n",
    "#     except Exception as e:\n",
    "#         print(f\"Error saving image1 at index {index}: {e}\")\n",
    "#         continue\n",
    "\n",
    "#     try:\n",
    "#         image2.save(image2_path)\n",
    "#     except Exception as e:\n",
    "#         print(f\"Error saving image2 at index {index}: {e}\")\n",
    "#         continue\n",
    "\n",
    "#     df.at[index, 'image1'] = image1_path\n",
    "#     df.at[index, 'image2'] = image2_path\n",
    "\n",
    "# output_csv = \"/home/seif_elkerdany/projects/data/38K_dataset.csv\"\n",
    "# df.to_csv(output_csv, index=False)\n",
    "\n",
    "# print(\"Dataset updated successfully! The images are stored in the folder:\", base_output_dir)"
   ]
  },
  {
   "cell_type": "code",
   "execution_count": null,
   "metadata": {},
   "outputs": [
    {
     "data": {
      "text/html": [
       "<div>\n",
       "<style scoped>\n",
       "    .dataframe tbody tr th:only-of-type {\n",
       "        vertical-align: middle;\n",
       "    }\n",
       "\n",
       "    .dataframe tbody tr th {\n",
       "        vertical-align: top;\n",
       "    }\n",
       "\n",
       "    .dataframe thead th {\n",
       "        text-align: right;\n",
       "    }\n",
       "</style>\n",
       "<table border=\"1\" class=\"dataframe\">\n",
       "  <thead>\n",
       "    <tr style=\"text-align: right;\">\n",
       "      <th></th>\n",
       "      <th>image1</th>\n",
       "      <th>image2</th>\n",
       "      <th>target</th>\n",
       "    </tr>\n",
       "  </thead>\n",
       "  <tbody>\n",
       "    <tr>\n",
       "      <th>0</th>\n",
       "      <td>/home/seif_elkerdany/projects/data/38K_images/...</td>\n",
       "      <td>/home/seif_elkerdany/projects/data/38K_images/...</td>\n",
       "      <td>1</td>\n",
       "    </tr>\n",
       "    <tr>\n",
       "      <th>1</th>\n",
       "      <td>/home/seif_elkerdany/projects/data/38K_images/...</td>\n",
       "      <td>/home/seif_elkerdany/projects/data/38K_images/...</td>\n",
       "      <td>1</td>\n",
       "    </tr>\n",
       "    <tr>\n",
       "      <th>2</th>\n",
       "      <td>/home/seif_elkerdany/projects/data/38K_images/...</td>\n",
       "      <td>/home/seif_elkerdany/projects/data/38K_images/...</td>\n",
       "      <td>1</td>\n",
       "    </tr>\n",
       "    <tr>\n",
       "      <th>3</th>\n",
       "      <td>/home/seif_elkerdany/projects/data/38K_images/...</td>\n",
       "      <td>/home/seif_elkerdany/projects/data/38K_images/...</td>\n",
       "      <td>1</td>\n",
       "    </tr>\n",
       "    <tr>\n",
       "      <th>4</th>\n",
       "      <td>/home/seif_elkerdany/projects/data/38K_images/...</td>\n",
       "      <td>/home/seif_elkerdany/projects/data/38K_images/...</td>\n",
       "      <td>1</td>\n",
       "    </tr>\n",
       "  </tbody>\n",
       "</table>\n",
       "</div>"
      ],
      "text/plain": [
       "                                              image1  \\\n",
       "0  /home/seif_elkerdany/projects/data/38K_images/...   \n",
       "1  /home/seif_elkerdany/projects/data/38K_images/...   \n",
       "2  /home/seif_elkerdany/projects/data/38K_images/...   \n",
       "3  /home/seif_elkerdany/projects/data/38K_images/...   \n",
       "4  /home/seif_elkerdany/projects/data/38K_images/...   \n",
       "\n",
       "                                              image2  target  \n",
       "0  /home/seif_elkerdany/projects/data/38K_images/...       1  \n",
       "1  /home/seif_elkerdany/projects/data/38K_images/...       1  \n",
       "2  /home/seif_elkerdany/projects/data/38K_images/...       1  \n",
       "3  /home/seif_elkerdany/projects/data/38K_images/...       1  \n",
       "4  /home/seif_elkerdany/projects/data/38K_images/...       1  "
      ]
     },
     "execution_count": 5,
     "metadata": {},
     "output_type": "execute_result"
    }
   ],
   "source": [
    "# df.head()"
   ]
  },
  {
   "cell_type": "code",
   "execution_count": 14,
   "metadata": {},
   "outputs": [],
   "source": [
    "import pandas as pd\n",
    "import seaborn as sns\n",
    "import matplotlib.pyplot as plt"
   ]
  },
  {
   "cell_type": "code",
   "execution_count": 2,
   "metadata": {},
   "outputs": [],
   "source": [
    "df_38K = pd.read_csv(\"/home/seif_elkerdany/projects/data/38K_dataset.csv\")\n",
    "df_hijab = pd.read_csv(\"/home/seif_elkerdany/projects/Dataset/siamese_dataset.csv\")\n",
    "df_student = pd.read_csv(\"/home/seif_elkerdany/projects/data/student/students_data.csv\")\n",
    "df_lfw = pd.read_csv(\"/home/seif_elkerdany/projects/data/lfw/pairs.csv\")"
   ]
  },
  {
   "cell_type": "code",
   "execution_count": 3,
   "metadata": {},
   "outputs": [
    {
     "data": {
      "text/html": [
       "<div>\n",
       "<style scoped>\n",
       "    .dataframe tbody tr th:only-of-type {\n",
       "        vertical-align: middle;\n",
       "    }\n",
       "\n",
       "    .dataframe tbody tr th {\n",
       "        vertical-align: top;\n",
       "    }\n",
       "\n",
       "    .dataframe thead th {\n",
       "        text-align: right;\n",
       "    }\n",
       "</style>\n",
       "<table border=\"1\" class=\"dataframe\">\n",
       "  <thead>\n",
       "    <tr style=\"text-align: right;\">\n",
       "      <th></th>\n",
       "      <th>image1</th>\n",
       "      <th>image2</th>\n",
       "      <th>target</th>\n",
       "    </tr>\n",
       "  </thead>\n",
       "  <tbody>\n",
       "    <tr>\n",
       "      <th>0</th>\n",
       "      <td>/home/seif_elkerdany/projects/data/38K_images/...</td>\n",
       "      <td>/home/seif_elkerdany/projects/data/38K_images/...</td>\n",
       "      <td>1</td>\n",
       "    </tr>\n",
       "    <tr>\n",
       "      <th>1</th>\n",
       "      <td>/home/seif_elkerdany/projects/data/38K_images/...</td>\n",
       "      <td>/home/seif_elkerdany/projects/data/38K_images/...</td>\n",
       "      <td>1</td>\n",
       "    </tr>\n",
       "    <tr>\n",
       "      <th>2</th>\n",
       "      <td>/home/seif_elkerdany/projects/data/38K_images/...</td>\n",
       "      <td>/home/seif_elkerdany/projects/data/38K_images/...</td>\n",
       "      <td>1</td>\n",
       "    </tr>\n",
       "    <tr>\n",
       "      <th>3</th>\n",
       "      <td>/home/seif_elkerdany/projects/data/38K_images/...</td>\n",
       "      <td>/home/seif_elkerdany/projects/data/38K_images/...</td>\n",
       "      <td>1</td>\n",
       "    </tr>\n",
       "    <tr>\n",
       "      <th>4</th>\n",
       "      <td>/home/seif_elkerdany/projects/data/38K_images/...</td>\n",
       "      <td>/home/seif_elkerdany/projects/data/38K_images/...</td>\n",
       "      <td>1</td>\n",
       "    </tr>\n",
       "  </tbody>\n",
       "</table>\n",
       "</div>"
      ],
      "text/plain": [
       "                                              image1  \\\n",
       "0  /home/seif_elkerdany/projects/data/38K_images/...   \n",
       "1  /home/seif_elkerdany/projects/data/38K_images/...   \n",
       "2  /home/seif_elkerdany/projects/data/38K_images/...   \n",
       "3  /home/seif_elkerdany/projects/data/38K_images/...   \n",
       "4  /home/seif_elkerdany/projects/data/38K_images/...   \n",
       "\n",
       "                                              image2  target  \n",
       "0  /home/seif_elkerdany/projects/data/38K_images/...       1  \n",
       "1  /home/seif_elkerdany/projects/data/38K_images/...       1  \n",
       "2  /home/seif_elkerdany/projects/data/38K_images/...       1  \n",
       "3  /home/seif_elkerdany/projects/data/38K_images/...       1  \n",
       "4  /home/seif_elkerdany/projects/data/38K_images/...       1  "
      ]
     },
     "execution_count": 3,
     "metadata": {},
     "output_type": "execute_result"
    }
   ],
   "source": [
    "df_38K.head()"
   ]
  },
  {
   "cell_type": "code",
   "execution_count": 4,
   "metadata": {},
   "outputs": [
    {
     "data": {
      "text/html": [
       "<div>\n",
       "<style scoped>\n",
       "    .dataframe tbody tr th:only-of-type {\n",
       "        vertical-align: middle;\n",
       "    }\n",
       "\n",
       "    .dataframe tbody tr th {\n",
       "        vertical-align: top;\n",
       "    }\n",
       "\n",
       "    .dataframe thead th {\n",
       "        text-align: right;\n",
       "    }\n",
       "</style>\n",
       "<table border=\"1\" class=\"dataframe\">\n",
       "  <thead>\n",
       "    <tr style=\"text-align: right;\">\n",
       "      <th></th>\n",
       "      <th>image1</th>\n",
       "      <th>image2</th>\n",
       "      <th>label</th>\n",
       "    </tr>\n",
       "  </thead>\n",
       "  <tbody>\n",
       "    <tr>\n",
       "      <th>0</th>\n",
       "      <td>/home/seif_elkerdany/projects/Dataset/Hijab/14...</td>\n",
       "      <td>/home/seif_elkerdany/projects/Dataset/Hijab/au...</td>\n",
       "      <td>1</td>\n",
       "    </tr>\n",
       "    <tr>\n",
       "      <th>1</th>\n",
       "      <td>/home/seif_elkerdany/projects/Dataset/Hijab/7i...</td>\n",
       "      <td>/home/seif_elkerdany/projects/Dataset/Hijab/au...</td>\n",
       "      <td>1</td>\n",
       "    </tr>\n",
       "    <tr>\n",
       "      <th>2</th>\n",
       "      <td>/home/seif_elkerdany/projects/Dataset/Hijab/d1...</td>\n",
       "      <td>/home/seif_elkerdany/projects/Dataset/Hijab/au...</td>\n",
       "      <td>1</td>\n",
       "    </tr>\n",
       "    <tr>\n",
       "      <th>3</th>\n",
       "      <td>/home/seif_elkerdany/projects/Dataset/Hijab/Sp...</td>\n",
       "      <td>/home/seif_elkerdany/projects/Dataset/Hijab/au...</td>\n",
       "      <td>1</td>\n",
       "    </tr>\n",
       "    <tr>\n",
       "      <th>4</th>\n",
       "      <td>/home/seif_elkerdany/projects/Dataset/Hijab/al...</td>\n",
       "      <td>/home/seif_elkerdany/projects/Dataset/Hijab/au...</td>\n",
       "      <td>1</td>\n",
       "    </tr>\n",
       "  </tbody>\n",
       "</table>\n",
       "</div>"
      ],
      "text/plain": [
       "                                              image1  \\\n",
       "0  /home/seif_elkerdany/projects/Dataset/Hijab/14...   \n",
       "1  /home/seif_elkerdany/projects/Dataset/Hijab/7i...   \n",
       "2  /home/seif_elkerdany/projects/Dataset/Hijab/d1...   \n",
       "3  /home/seif_elkerdany/projects/Dataset/Hijab/Sp...   \n",
       "4  /home/seif_elkerdany/projects/Dataset/Hijab/al...   \n",
       "\n",
       "                                              image2  label  \n",
       "0  /home/seif_elkerdany/projects/Dataset/Hijab/au...      1  \n",
       "1  /home/seif_elkerdany/projects/Dataset/Hijab/au...      1  \n",
       "2  /home/seif_elkerdany/projects/Dataset/Hijab/au...      1  \n",
       "3  /home/seif_elkerdany/projects/Dataset/Hijab/au...      1  \n",
       "4  /home/seif_elkerdany/projects/Dataset/Hijab/au...      1  "
      ]
     },
     "execution_count": 4,
     "metadata": {},
     "output_type": "execute_result"
    }
   ],
   "source": [
    "df_hijab.head()"
   ]
  },
  {
   "cell_type": "code",
   "execution_count": 5,
   "metadata": {},
   "outputs": [
    {
     "data": {
      "text/html": [
       "<div>\n",
       "<style scoped>\n",
       "    .dataframe tbody tr th:only-of-type {\n",
       "        vertical-align: middle;\n",
       "    }\n",
       "\n",
       "    .dataframe tbody tr th {\n",
       "        vertical-align: top;\n",
       "    }\n",
       "\n",
       "    .dataframe thead th {\n",
       "        text-align: right;\n",
       "    }\n",
       "</style>\n",
       "<table border=\"1\" class=\"dataframe\">\n",
       "  <thead>\n",
       "    <tr style=\"text-align: right;\">\n",
       "      <th></th>\n",
       "      <th>path1</th>\n",
       "      <th>path2</th>\n",
       "      <th>label</th>\n",
       "    </tr>\n",
       "  </thead>\n",
       "  <tbody>\n",
       "    <tr>\n",
       "      <th>0</th>\n",
       "      <td>23101028_1.jpg</td>\n",
       "      <td>23101028_2.jpg</td>\n",
       "      <td>1</td>\n",
       "    </tr>\n",
       "    <tr>\n",
       "      <th>1</th>\n",
       "      <td>23101028_1.jpg</td>\n",
       "      <td>23101028_3.jpg</td>\n",
       "      <td>1</td>\n",
       "    </tr>\n",
       "    <tr>\n",
       "      <th>2</th>\n",
       "      <td>23101028_1.jpg</td>\n",
       "      <td>23101455_1.jpg</td>\n",
       "      <td>0</td>\n",
       "    </tr>\n",
       "    <tr>\n",
       "      <th>3</th>\n",
       "      <td>23101028_1.jpg</td>\n",
       "      <td>23101473_2.jpg</td>\n",
       "      <td>0</td>\n",
       "    </tr>\n",
       "    <tr>\n",
       "      <th>4</th>\n",
       "      <td>23101028_1.jpg</td>\n",
       "      <td>23101455_4.jpg</td>\n",
       "      <td>0</td>\n",
       "    </tr>\n",
       "  </tbody>\n",
       "</table>\n",
       "</div>"
      ],
      "text/plain": [
       "            path1           path2  label\n",
       "0  23101028_1.jpg  23101028_2.jpg      1\n",
       "1  23101028_1.jpg  23101028_3.jpg      1\n",
       "2  23101028_1.jpg  23101455_1.jpg      0\n",
       "3  23101028_1.jpg  23101473_2.jpg      0\n",
       "4  23101028_1.jpg  23101455_4.jpg      0"
      ]
     },
     "execution_count": 5,
     "metadata": {},
     "output_type": "execute_result"
    }
   ],
   "source": [
    "df_student.head()"
   ]
  },
  {
   "cell_type": "code",
   "execution_count": 6,
   "metadata": {},
   "outputs": [
    {
     "data": {
      "text/html": [
       "<div>\n",
       "<style scoped>\n",
       "    .dataframe tbody tr th:only-of-type {\n",
       "        vertical-align: middle;\n",
       "    }\n",
       "\n",
       "    .dataframe tbody tr th {\n",
       "        vertical-align: top;\n",
       "    }\n",
       "\n",
       "    .dataframe thead th {\n",
       "        text-align: right;\n",
       "    }\n",
       "</style>\n",
       "<table border=\"1\" class=\"dataframe\">\n",
       "  <thead>\n",
       "    <tr style=\"text-align: right;\">\n",
       "      <th></th>\n",
       "      <th>image_1</th>\n",
       "      <th>image_2</th>\n",
       "      <th>label</th>\n",
       "    </tr>\n",
       "  </thead>\n",
       "  <tbody>\n",
       "    <tr>\n",
       "      <th>0</th>\n",
       "      <td>/kaggle/input/lfw-dataset/lfw-deepfunneled/lfw...</td>\n",
       "      <td>/kaggle/input/lfw-dataset/lfw-deepfunneled/lfw...</td>\n",
       "      <td>1</td>\n",
       "    </tr>\n",
       "    <tr>\n",
       "      <th>1</th>\n",
       "      <td>/kaggle/input/lfw-dataset/lfw-deepfunneled/lfw...</td>\n",
       "      <td>/kaggle/input/lfw-dataset/lfw-deepfunneled/lfw...</td>\n",
       "      <td>1</td>\n",
       "    </tr>\n",
       "    <tr>\n",
       "      <th>2</th>\n",
       "      <td>/kaggle/input/lfw-dataset/lfw-deepfunneled/lfw...</td>\n",
       "      <td>/kaggle/input/lfw-dataset/lfw-deepfunneled/lfw...</td>\n",
       "      <td>1</td>\n",
       "    </tr>\n",
       "    <tr>\n",
       "      <th>3</th>\n",
       "      <td>/kaggle/input/lfw-dataset/lfw-deepfunneled/lfw...</td>\n",
       "      <td>/kaggle/input/lfw-dataset/lfw-deepfunneled/lfw...</td>\n",
       "      <td>1</td>\n",
       "    </tr>\n",
       "    <tr>\n",
       "      <th>4</th>\n",
       "      <td>/kaggle/input/lfw-dataset/lfw-deepfunneled/lfw...</td>\n",
       "      <td>/kaggle/input/lfw-dataset/lfw-deepfunneled/lfw...</td>\n",
       "      <td>1</td>\n",
       "    </tr>\n",
       "  </tbody>\n",
       "</table>\n",
       "</div>"
      ],
      "text/plain": [
       "                                             image_1  \\\n",
       "0  /kaggle/input/lfw-dataset/lfw-deepfunneled/lfw...   \n",
       "1  /kaggle/input/lfw-dataset/lfw-deepfunneled/lfw...   \n",
       "2  /kaggle/input/lfw-dataset/lfw-deepfunneled/lfw...   \n",
       "3  /kaggle/input/lfw-dataset/lfw-deepfunneled/lfw...   \n",
       "4  /kaggle/input/lfw-dataset/lfw-deepfunneled/lfw...   \n",
       "\n",
       "                                             image_2  label  \n",
       "0  /kaggle/input/lfw-dataset/lfw-deepfunneled/lfw...      1  \n",
       "1  /kaggle/input/lfw-dataset/lfw-deepfunneled/lfw...      1  \n",
       "2  /kaggle/input/lfw-dataset/lfw-deepfunneled/lfw...      1  \n",
       "3  /kaggle/input/lfw-dataset/lfw-deepfunneled/lfw...      1  \n",
       "4  /kaggle/input/lfw-dataset/lfw-deepfunneled/lfw...      1  "
      ]
     },
     "execution_count": 6,
     "metadata": {},
     "output_type": "execute_result"
    }
   ],
   "source": [
    "df_lfw.head()"
   ]
  },
  {
   "cell_type": "code",
   "execution_count": 7,
   "metadata": {},
   "outputs": [
    {
     "data": {
      "text/html": [
       "<div>\n",
       "<style scoped>\n",
       "    .dataframe tbody tr th:only-of-type {\n",
       "        vertical-align: middle;\n",
       "    }\n",
       "\n",
       "    .dataframe tbody tr th {\n",
       "        vertical-align: top;\n",
       "    }\n",
       "\n",
       "    .dataframe thead th {\n",
       "        text-align: right;\n",
       "    }\n",
       "</style>\n",
       "<table border=\"1\" class=\"dataframe\">\n",
       "  <thead>\n",
       "    <tr style=\"text-align: right;\">\n",
       "      <th></th>\n",
       "      <th>image1</th>\n",
       "      <th>image2</th>\n",
       "      <th>label</th>\n",
       "    </tr>\n",
       "  </thead>\n",
       "  <tbody>\n",
       "    <tr>\n",
       "      <th>0</th>\n",
       "      <td>/home/seif_elkerdany/projects/data/lfw/lfw-dee...</td>\n",
       "      <td>/home/seif_elkerdany/projects/data/lfw/lfw-dee...</td>\n",
       "      <td>1</td>\n",
       "    </tr>\n",
       "    <tr>\n",
       "      <th>1</th>\n",
       "      <td>/home/seif_elkerdany/projects/data/lfw/lfw-dee...</td>\n",
       "      <td>/home/seif_elkerdany/projects/data/lfw/lfw-dee...</td>\n",
       "      <td>1</td>\n",
       "    </tr>\n",
       "    <tr>\n",
       "      <th>2</th>\n",
       "      <td>/home/seif_elkerdany/projects/data/lfw/lfw-dee...</td>\n",
       "      <td>/home/seif_elkerdany/projects/data/lfw/lfw-dee...</td>\n",
       "      <td>1</td>\n",
       "    </tr>\n",
       "    <tr>\n",
       "      <th>3</th>\n",
       "      <td>/home/seif_elkerdany/projects/data/lfw/lfw-dee...</td>\n",
       "      <td>/home/seif_elkerdany/projects/data/lfw/lfw-dee...</td>\n",
       "      <td>1</td>\n",
       "    </tr>\n",
       "    <tr>\n",
       "      <th>4</th>\n",
       "      <td>/home/seif_elkerdany/projects/data/lfw/lfw-dee...</td>\n",
       "      <td>/home/seif_elkerdany/projects/data/lfw/lfw-dee...</td>\n",
       "      <td>1</td>\n",
       "    </tr>\n",
       "  </tbody>\n",
       "</table>\n",
       "</div>"
      ],
      "text/plain": [
       "                                              image1  \\\n",
       "0  /home/seif_elkerdany/projects/data/lfw/lfw-dee...   \n",
       "1  /home/seif_elkerdany/projects/data/lfw/lfw-dee...   \n",
       "2  /home/seif_elkerdany/projects/data/lfw/lfw-dee...   \n",
       "3  /home/seif_elkerdany/projects/data/lfw/lfw-dee...   \n",
       "4  /home/seif_elkerdany/projects/data/lfw/lfw-dee...   \n",
       "\n",
       "                                              image2  label  \n",
       "0  /home/seif_elkerdany/projects/data/lfw/lfw-dee...      1  \n",
       "1  /home/seif_elkerdany/projects/data/lfw/lfw-dee...      1  \n",
       "2  /home/seif_elkerdany/projects/data/lfw/lfw-dee...      1  \n",
       "3  /home/seif_elkerdany/projects/data/lfw/lfw-dee...      1  \n",
       "4  /home/seif_elkerdany/projects/data/lfw/lfw-dee...      1  "
      ]
     },
     "execution_count": 7,
     "metadata": {},
     "output_type": "execute_result"
    }
   ],
   "source": [
    "old_path = '/kaggle/input/lfw-dataset/lfw-deepfunneled/'\n",
    "new_path = '/home/seif_elkerdany/projects/data/lfw/'\n",
    "\n",
    "df_lfw['image_1'] = df_lfw['image_1'].str.replace(old_path, new_path)\n",
    "df_lfw['image_2'] = df_lfw['image_2'].str.replace(old_path, new_path)\n",
    "\n",
    "df_lfw.rename(columns={'image_1': 'image1', 'image_2':'image2'}, inplace=True)\n",
    "\n",
    "df_lfw.head()"
   ]
  },
  {
   "cell_type": "code",
   "execution_count": 8,
   "metadata": {},
   "outputs": [
    {
     "data": {
      "text/html": [
       "<div>\n",
       "<style scoped>\n",
       "    .dataframe tbody tr th:only-of-type {\n",
       "        vertical-align: middle;\n",
       "    }\n",
       "\n",
       "    .dataframe tbody tr th {\n",
       "        vertical-align: top;\n",
       "    }\n",
       "\n",
       "    .dataframe thead th {\n",
       "        text-align: right;\n",
       "    }\n",
       "</style>\n",
       "<table border=\"1\" class=\"dataframe\">\n",
       "  <thead>\n",
       "    <tr style=\"text-align: right;\">\n",
       "      <th></th>\n",
       "      <th>image1</th>\n",
       "      <th>image2</th>\n",
       "      <th>label</th>\n",
       "    </tr>\n",
       "  </thead>\n",
       "  <tbody>\n",
       "    <tr>\n",
       "      <th>0</th>\n",
       "      <td>23101028_1.jpg</td>\n",
       "      <td>23101028_2.jpg</td>\n",
       "      <td>1</td>\n",
       "    </tr>\n",
       "    <tr>\n",
       "      <th>1</th>\n",
       "      <td>23101028_1.jpg</td>\n",
       "      <td>23101028_3.jpg</td>\n",
       "      <td>1</td>\n",
       "    </tr>\n",
       "    <tr>\n",
       "      <th>2</th>\n",
       "      <td>23101028_1.jpg</td>\n",
       "      <td>23101455_1.jpg</td>\n",
       "      <td>0</td>\n",
       "    </tr>\n",
       "    <tr>\n",
       "      <th>3</th>\n",
       "      <td>23101028_1.jpg</td>\n",
       "      <td>23101473_2.jpg</td>\n",
       "      <td>0</td>\n",
       "    </tr>\n",
       "    <tr>\n",
       "      <th>4</th>\n",
       "      <td>23101028_1.jpg</td>\n",
       "      <td>23101455_4.jpg</td>\n",
       "      <td>0</td>\n",
       "    </tr>\n",
       "  </tbody>\n",
       "</table>\n",
       "</div>"
      ],
      "text/plain": [
       "           image1          image2  label\n",
       "0  23101028_1.jpg  23101028_2.jpg      1\n",
       "1  23101028_1.jpg  23101028_3.jpg      1\n",
       "2  23101028_1.jpg  23101455_1.jpg      0\n",
       "3  23101028_1.jpg  23101473_2.jpg      0\n",
       "4  23101028_1.jpg  23101455_4.jpg      0"
      ]
     },
     "execution_count": 8,
     "metadata": {},
     "output_type": "execute_result"
    }
   ],
   "source": [
    "df_student.rename(columns={'path1': 'image1', 'path2':'image2'}, inplace=True)\n",
    "\n",
    "df_student.head()"
   ]
  },
  {
   "cell_type": "code",
   "execution_count": 9,
   "metadata": {},
   "outputs": [
    {
     "data": {
      "text/html": [
       "<div>\n",
       "<style scoped>\n",
       "    .dataframe tbody tr th:only-of-type {\n",
       "        vertical-align: middle;\n",
       "    }\n",
       "\n",
       "    .dataframe tbody tr th {\n",
       "        vertical-align: top;\n",
       "    }\n",
       "\n",
       "    .dataframe thead th {\n",
       "        text-align: right;\n",
       "    }\n",
       "</style>\n",
       "<table border=\"1\" class=\"dataframe\">\n",
       "  <thead>\n",
       "    <tr style=\"text-align: right;\">\n",
       "      <th></th>\n",
       "      <th>image1</th>\n",
       "      <th>image2</th>\n",
       "      <th>label</th>\n",
       "    </tr>\n",
       "  </thead>\n",
       "  <tbody>\n",
       "    <tr>\n",
       "      <th>0</th>\n",
       "      <td>/home/seif_elkerdany/projects/data/student/Dat...</td>\n",
       "      <td>/home/seif_elkerdany/projects/data/student/Dat...</td>\n",
       "      <td>1</td>\n",
       "    </tr>\n",
       "    <tr>\n",
       "      <th>1</th>\n",
       "      <td>/home/seif_elkerdany/projects/data/student/Dat...</td>\n",
       "      <td>/home/seif_elkerdany/projects/data/student/Dat...</td>\n",
       "      <td>1</td>\n",
       "    </tr>\n",
       "    <tr>\n",
       "      <th>2</th>\n",
       "      <td>/home/seif_elkerdany/projects/data/student/Dat...</td>\n",
       "      <td>/home/seif_elkerdany/projects/data/student/Dat...</td>\n",
       "      <td>0</td>\n",
       "    </tr>\n",
       "    <tr>\n",
       "      <th>3</th>\n",
       "      <td>/home/seif_elkerdany/projects/data/student/Dat...</td>\n",
       "      <td>/home/seif_elkerdany/projects/data/student/Dat...</td>\n",
       "      <td>0</td>\n",
       "    </tr>\n",
       "    <tr>\n",
       "      <th>4</th>\n",
       "      <td>/home/seif_elkerdany/projects/data/student/Dat...</td>\n",
       "      <td>/home/seif_elkerdany/projects/data/student/Dat...</td>\n",
       "      <td>0</td>\n",
       "    </tr>\n",
       "  </tbody>\n",
       "</table>\n",
       "</div>"
      ],
      "text/plain": [
       "                                              image1  \\\n",
       "0  /home/seif_elkerdany/projects/data/student/Dat...   \n",
       "1  /home/seif_elkerdany/projects/data/student/Dat...   \n",
       "2  /home/seif_elkerdany/projects/data/student/Dat...   \n",
       "3  /home/seif_elkerdany/projects/data/student/Dat...   \n",
       "4  /home/seif_elkerdany/projects/data/student/Dat...   \n",
       "\n",
       "                                              image2  label  \n",
       "0  /home/seif_elkerdany/projects/data/student/Dat...      1  \n",
       "1  /home/seif_elkerdany/projects/data/student/Dat...      1  \n",
       "2  /home/seif_elkerdany/projects/data/student/Dat...      0  \n",
       "3  /home/seif_elkerdany/projects/data/student/Dat...      0  \n",
       "4  /home/seif_elkerdany/projects/data/student/Dat...      0  "
      ]
     },
     "execution_count": 9,
     "metadata": {},
     "output_type": "execute_result"
    }
   ],
   "source": [
    "new_path = \"/home/seif_elkerdany/projects/data/student/DataSet_Grey/\"\n",
    "\n",
    "df_student['image1'] = new_path + df_student['image1']\n",
    "df_student['image2'] = new_path + df_student['image2']\n",
    "\n",
    "df_student.head()"
   ]
  },
  {
   "cell_type": "code",
   "execution_count": 10,
   "metadata": {},
   "outputs": [],
   "source": [
    "df_38K.rename(columns={'target': 'label'}, inplace=True)"
   ]
  },
  {
   "cell_type": "code",
   "execution_count": 11,
   "metadata": {},
   "outputs": [],
   "source": [
    "# # Sample fractions from each DataFrame\n",
    "# sample_fraction_38K   = df_38K.sample(frac=0.1, random_state=42)\n",
    "# sample_fraction_hijab = df_hijab.sample(frac=0.2, random_state=10)\n",
    "# sample_fraction_student = df_student.sample(frac=0.2, random_state=45)\n",
    "# sample_fraction_lfw    = df_lfw.sample(frac=0.1, random_state=13)\n",
    "\n",
    "# # Remove the sampled rows from each DataFrame\n",
    "# df_38K_remaining   = df_38K.drop(sample_fraction_38K.index)\n",
    "# df_hijab_remaining = df_hijab.drop(sample_fraction_hijab.index)\n",
    "# df_student_remaining = df_student.drop(sample_fraction_student.index)\n",
    "# df_lfw_remaining   = df_lfw.drop(sample_fraction_lfw.index)\n",
    "\n",
    "# # Merge the remaining rows to form your training set\n",
    "# df_merged = pd.concat([df_38K_remaining, df_hijab_remaining, df_student_remaining, df_lfw_remaining], ignore_index=True)\n",
    "\n",
    "# # Merge the sampled rows to form your test set\n",
    "# df_merged_test = pd.concat([sample_fraction_38K, sample_fraction_hijab, sample_fraction_student, sample_fraction_lfw], ignore_index=True)\n",
    "\n",
    "df_merged = pd.concat([df_lfw, df_hijab], ignore_index=True)\n",
    "df_merged_test = pd.concat([df_student, df_38K], ignore_index=True)"
   ]
  },
  {
   "cell_type": "code",
   "execution_count": 12,
   "metadata": {},
   "outputs": [
    {
     "name": "stdout",
     "output_type": "stream",
     "text": [
      "<class 'pandas.core.frame.DataFrame'>\n",
      "RangeIndex: 37277 entries, 0 to 37276\n",
      "Data columns (total 3 columns):\n",
      " #   Column  Non-Null Count  Dtype \n",
      "---  ------  --------------  ----- \n",
      " 0   image1  37277 non-null  object\n",
      " 1   image2  37277 non-null  object\n",
      " 2   label   37277 non-null  int64 \n",
      "dtypes: int64(1), object(2)\n",
      "memory usage: 873.8+ KB\n"
     ]
    }
   ],
   "source": [
    "df_merged_test.info()"
   ]
  },
  {
   "cell_type": "code",
   "execution_count": 13,
   "metadata": {},
   "outputs": [
    {
     "name": "stdout",
     "output_type": "stream",
     "text": [
      "<class 'pandas.core.frame.DataFrame'>\n",
      "RangeIndex: 485514 entries, 0 to 485513\n",
      "Data columns (total 3 columns):\n",
      " #   Column  Non-Null Count   Dtype \n",
      "---  ------  --------------   ----- \n",
      " 0   image1  485514 non-null  object\n",
      " 1   image2  485514 non-null  object\n",
      " 2   label   485514 non-null  int64 \n",
      "dtypes: int64(1), object(2)\n",
      "memory usage: 11.1+ MB\n"
     ]
    }
   ],
   "source": [
    "df_merged.info()"
   ]
  },
  {
   "cell_type": "code",
   "execution_count": 19,
   "metadata": {},
   "outputs": [
    {
     "name": "stderr",
     "output_type": "stream",
     "text": [
      "/tmp/ipykernel_5519/4128504093.py:1: FutureWarning: \n",
      "\n",
      "Passing `palette` without assigning `hue` is deprecated and will be removed in v0.14.0. Assign the `x` variable to `hue` and set `legend=False` for the same effect.\n",
      "\n",
      "  sns.countplot(data=df_merged, x='label', order=df_merged['label'].value_counts().index, palette='viridis')\n"
     ]
    },
    {
     "data": {
      "image/png": "[encoded data removed]",
      "text/plain": [
       "<Figure size 640x480 with 1 Axes>"
      ]
     },
     "metadata": {},
     "output_type": "display_data"
    }
   ],
   "source": [
    "sns.countplot(data=df_merged, x='label', order=df_merged['label'].value_counts().index, palette='viridis')\n",
    "\n",
    "plt.xlabel('Label')\n",
    "plt.ylabel('Count')\n",
    "plt.title('Distribution of Labels')\n",
    "plt.tight_layout()\n",
    "plt.show()"
   ]
  },
  {
   "cell_type": "code",
   "execution_count": 21,
   "metadata": {},
   "outputs": [],
   "source": [
    "# df_merged.to_csv(\"train_dataset.csv\", index=False)\n",
    "# df_merged_test.to_csv(\"test_dataset.csv\", index=False)\n",
    "\n",
    "df_merged.to_csv(\"/home/seif_elkerdany/projects/data/train_dataset_2.csv\", index=False)\n",
    "df_merged_test.to_csv(\"/home/seif_elkerdany/projects/data/test_dataset_2.csv\", index=False)"
   ]
  },
  {
   "cell_type": "code",
   "execution_count": 22,
   "metadata": {},
   "outputs": [
    {
     "name": "stdout",
     "output_type": "stream",
     "text": [
      "<class 'pandas.core.frame.DataFrame'>\n",
      "Index: 18638 entries, 35732 to 10967\n",
      "Data columns (total 3 columns):\n",
      " #   Column  Non-Null Count  Dtype \n",
      "---  ------  --------------  ----- \n",
      " 0   image1  18638 non-null  object\n",
      " 1   image2  18638 non-null  object\n",
      " 2   label   18638 non-null  int64 \n",
      "dtypes: int64(1), object(2)\n",
      "memory usage: 582.4+ KB\n"
     ]
    }
   ],
   "source": [
    "from sklearn.model_selection import train_test_split\n",
    "\n",
    "train_df = pd.read_csv(\"/home/seif_elkerdany/projects/data/train_dataset_2.csv\")\n",
    "test_df = pd.read_csv(\"/home/seif_elkerdany/projects/data/test_dataset_2.csv\")\n",
    "\n",
    "test_df, val_df = train_test_split(test_df, test_size=0.5, random_state=32, shuffle= True)\n",
    "\n",
    "test_df.to_csv(\"/home/seif_elkerdany/projects/data/test_split_2.csv\", index=False)\n",
    "val_df.to_csv(\"/home/seif_elkerdany/projects/data/val_split_2.csv\", index=False)\n",
    "\n",
    "test_df.info()"
   ]
  },
  {
   "cell_type": "code",
   "execution_count": 23,
   "metadata": {},
   "outputs": [
    {
     "name": "stdout",
     "output_type": "stream",
     "text": [
      "<class 'pandas.core.frame.DataFrame'>\n",
      "Index: 18639 entries, 23596 to 3308\n",
      "Data columns (total 3 columns):\n",
      " #   Column  Non-Null Count  Dtype \n",
      "---  ------  --------------  ----- \n",
      " 0   image1  18639 non-null  object\n",
      " 1   image2  18639 non-null  object\n",
      " 2   label   18639 non-null  int64 \n",
      "dtypes: int64(1), object(2)\n",
      "memory usage: 582.5+ KB\n"
     ]
    }
   ],
   "source": [
    "val_df.info()"
   ]
  },
  {
   "cell_type": "code",
   "execution_count": 24,
   "metadata": {},
   "outputs": [
    {
     "name": "stdout",
     "output_type": "stream",
     "text": [
      "<class 'pandas.core.frame.DataFrame'>\n",
      "Index: 18638 entries, 35732 to 10967\n",
      "Data columns (total 3 columns):\n",
      " #   Column  Non-Null Count  Dtype \n",
      "---  ------  --------------  ----- \n",
      " 0   image1  18638 non-null  object\n",
      " 1   image2  18638 non-null  object\n",
      " 2   label   18638 non-null  int64 \n",
      "dtypes: int64(1), object(2)\n",
      "memory usage: 582.4+ KB\n"
     ]
    }
   ],
   "source": [
    "test_df.info()"
   ]
  }
 ],
 "metadata": {
  "kernelspec": {
   "display_name": "main_ML",
   "language": "python",
   "name": "python3"
  },
  "language_info": {
   "codemirror_mode": {
    "name": "ipython",
    "version": 3
   },
   "file_extension": ".py",
   "mimetype": "text/x-python",
   "name": "python",
   "nbconvert_exporter": "python",
   "pygments_lexer": "ipython3",
   "version": "3.12.3"
  }
 },
 "nbformat": 4,
 "nbformat_minor": 2
}
